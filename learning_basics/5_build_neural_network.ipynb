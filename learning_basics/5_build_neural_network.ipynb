{
 "cells": [
  {
   "cell_type": "markdown",
   "source": [
    "# Build the Neural Network\n",
    "[教程链接](https://pytorch.org/tutorials/beginner/basics/buildmodel_tutorial.html)"
   ],
   "metadata": {
    "collapsed": false
   },
   "id": "ae31d2f1e5abe044"
  },
  {
   "cell_type": "code",
   "execution_count": 114,
   "outputs": [],
   "source": [
    "import os\n",
    "import torch\n",
    "from torch import nn\n",
    "from torch.utils.data import DataLoader\n",
    "from torchvision import datasets, transforms"
   ],
   "metadata": {
    "collapsed": false,
    "ExecuteTime": {
     "end_time": "2023-11-17T15:04:38.055707400Z",
     "start_time": "2023-11-17T15:04:38.024653300Z"
    }
   },
   "id": "1130cbf41fb398df"
  },
  {
   "cell_type": "markdown",
   "source": [
    "## device"
   ],
   "metadata": {
    "collapsed": false
   },
   "id": "cdfe018671bc09bd"
  },
  {
   "cell_type": "code",
   "execution_count": 115,
   "outputs": [
    {
     "name": "stdout",
     "output_type": "stream",
     "text": [
      "cuda\n"
     ]
    }
   ],
   "source": [
    "device = (\n",
    "    \"cuda\" if torch.cuda.is_available()\n",
    "    else \"mps\" if torch.backends.mps.is_available()\n",
    "    else \"cpu\"\n",
    ")\n",
    "print(device)"
   ],
   "metadata": {
    "collapsed": false,
    "ExecuteTime": {
     "end_time": "2023-11-17T15:04:38.080341900Z",
     "start_time": "2023-11-17T15:04:38.036780500Z"
    }
   },
   "id": "40e9b5cd47c86704"
  },
  {
   "cell_type": "markdown",
   "source": [
    "## Define the Class"
   ],
   "metadata": {
    "collapsed": false
   },
   "id": "bb891def12a0b6d1"
  },
  {
   "cell_type": "code",
   "execution_count": 116,
   "outputs": [
    {
     "name": "stdout",
     "output_type": "stream",
     "text": [
      "NeuralNetwork(\n",
      "  (flatten): Flatten(start_dim=1, end_dim=-1)\n",
      "  (linear_relu_stack): Sequential(\n",
      "    (0): Linear(in_features=784, out_features=512, bias=True)\n",
      "    (1): ReLU()\n",
      "    (2): Linear(in_features=512, out_features=512, bias=True)\n",
      "    (3): ReLU()\n",
      "    (4): Linear(in_features=512, out_features=10, bias=True)\n",
      "  )\n",
      ")\n"
     ]
    }
   ],
   "source": [
    "class NeuralNetwork(nn.Module):\n",
    "    def __init__(self):\n",
    "        super().__init__()\n",
    "        self.flatten = nn.Flatten()\n",
    "        self.linear_relu_stack = nn.Sequential(\n",
    "            nn.Linear(28*28, 512),\n",
    "            nn.ReLU(),\n",
    "            nn.Linear(512,512),\n",
    "            nn.ReLU(),\n",
    "            nn.Linear(512, 10),\n",
    "        )\n",
    "    \n",
    "    def forward(self, x):\n",
    "        x = self.flatten(x)\n",
    "        logits = self.linear_relu_stack(x)\n",
    "        return logits\n",
    "\n",
    "model = NeuralNetwork().to(device)\n",
    "print(model)"
   ],
   "metadata": {
    "collapsed": false,
    "ExecuteTime": {
     "end_time": "2023-11-17T15:04:38.105047500Z",
     "start_time": "2023-11-17T15:04:38.055707400Z"
    }
   },
   "id": "7ee341f4503b672"
  },
  {
   "cell_type": "code",
   "execution_count": 117,
   "outputs": [
    {
     "name": "stdout",
     "output_type": "stream",
     "text": [
      "torch.Size([1, 10])\n",
      "tensor([6], device='cuda:0')\n"
     ]
    }
   ],
   "source": [
    "X = torch.rand(1, 28, 28, device=device)\n",
    "logits = model(X)\n",
    "print(logits.size())\n",
    "pred_probab = nn.Softmax(dim=1)(logits)\n",
    "y_pred = pred_probab.argmax(1)\n",
    "print(y_pred)"
   ],
   "metadata": {
    "collapsed": false,
    "ExecuteTime": {
     "end_time": "2023-11-17T15:04:38.105047500Z",
     "start_time": "2023-11-17T15:04:38.067098500Z"
    }
   },
   "id": "ce412cb5d377b6f6"
  },
  {
   "cell_type": "markdown",
   "source": [
    "## Model Layers"
   ],
   "metadata": {
    "collapsed": false
   },
   "id": "6b4209ca8a551900"
  },
  {
   "cell_type": "code",
   "execution_count": 118,
   "outputs": [
    {
     "name": "stdout",
     "output_type": "stream",
     "text": [
      "torch.Size([3, 28, 28])\n"
     ]
    }
   ],
   "source": [
    "input_image = torch.rand(3,28,28)\n",
    "print(input_image.size())"
   ],
   "metadata": {
    "collapsed": false,
    "ExecuteTime": {
     "end_time": "2023-11-17T15:04:38.105047500Z",
     "start_time": "2023-11-17T15:04:38.075654600Z"
    }
   },
   "id": "4ce4018edf788485"
  },
  {
   "cell_type": "markdown",
   "source": [
    "### nn.Flatten()"
   ],
   "metadata": {
    "collapsed": false
   },
   "id": "945ab5dd673a2220"
  },
  {
   "cell_type": "code",
   "execution_count": 119,
   "outputs": [
    {
     "name": "stdout",
     "output_type": "stream",
     "text": [
      "torch.Size([3, 784])\n"
     ]
    }
   ],
   "source": [
    "flatten = nn.Flatten()\n",
    "flat_image = flatten(input_image)\n",
    "print(flat_image.size())"
   ],
   "metadata": {
    "collapsed": false,
    "ExecuteTime": {
     "end_time": "2023-11-17T15:04:38.105047500Z",
     "start_time": "2023-11-17T15:04:38.080341900Z"
    }
   },
   "id": "34e6447e28c0658a"
  },
  {
   "cell_type": "markdown",
   "source": [
    "### nn.Linear"
   ],
   "metadata": {
    "collapsed": false
   },
   "id": "7a952c1bf209809b"
  },
  {
   "cell_type": "code",
   "execution_count": 120,
   "outputs": [
    {
     "name": "stdout",
     "output_type": "stream",
     "text": [
      "torch.Size([3, 20])\n"
     ]
    }
   ],
   "source": [
    "layer1 = nn.Linear(in_features=28*28, out_features=20)\n",
    "hidden1 = layer1(flat_image)\n",
    "print(hidden1.size())"
   ],
   "metadata": {
    "collapsed": false,
    "ExecuteTime": {
     "end_time": "2023-11-17T15:04:38.105047500Z",
     "start_time": "2023-11-17T15:04:38.088598800Z"
    }
   },
   "id": "4d81edc9d48e8f65"
  },
  {
   "cell_type": "markdown",
   "source": [
    "### nn.ReLU"
   ],
   "metadata": {
    "collapsed": false
   },
   "id": "d22dde06842ed44d"
  },
  {
   "cell_type": "code",
   "execution_count": 121,
   "outputs": [
    {
     "name": "stdout",
     "output_type": "stream",
     "text": [
      "tensor([[ 0.0893,  0.6335, -0.1976, -0.5442, -0.1960, -0.4315,  0.6139, -0.2039,\n",
      "         -0.0648, -0.1255,  0.0763, -0.9271, -0.4055,  0.5128, -0.6723,  0.3361,\n",
      "          0.3317,  0.7255, -0.0107,  0.1347],\n",
      "        [ 0.2374,  0.3167, -0.0260, -0.1440, -0.0900, -0.3333,  0.0976, -0.1344,\n",
      "         -0.1646, -0.2335, -0.1101, -0.5949, -0.4035,  0.3730, -0.4570,  0.5315,\n",
      "          0.4057, -0.0257, -0.0462, -0.0703],\n",
      "        [-0.1246,  0.3470, -0.4149, -0.1737, -0.1363, -0.1687,  0.3957, -0.4341,\n",
      "          0.1361, -0.3473, -0.2777, -0.7721, -0.3793, -0.0617, -0.5624,  0.6923,\n",
      "          0.5330,  0.1833, -0.3382, -0.0070]], grad_fn=<AddmmBackward0>)\n",
      "tensor([[0.0893, 0.6335, 0.0000, 0.0000, 0.0000, 0.0000, 0.6139, 0.0000, 0.0000,\n",
      "         0.0000, 0.0763, 0.0000, 0.0000, 0.5128, 0.0000, 0.3361, 0.3317, 0.7255,\n",
      "         0.0000, 0.1347],\n",
      "        [0.2374, 0.3167, 0.0000, 0.0000, 0.0000, 0.0000, 0.0976, 0.0000, 0.0000,\n",
      "         0.0000, 0.0000, 0.0000, 0.0000, 0.3730, 0.0000, 0.5315, 0.4057, 0.0000,\n",
      "         0.0000, 0.0000],\n",
      "        [0.0000, 0.3470, 0.0000, 0.0000, 0.0000, 0.0000, 0.3957, 0.0000, 0.1361,\n",
      "         0.0000, 0.0000, 0.0000, 0.0000, 0.0000, 0.0000, 0.6923, 0.5330, 0.1833,\n",
      "         0.0000, 0.0000]], grad_fn=<ReluBackward0>)\n"
     ]
    }
   ],
   "source": [
    "print(hidden1)\n",
    "hidden1 = nn.ReLU()(hidden1)\n",
    "print(hidden1)"
   ],
   "metadata": {
    "collapsed": false,
    "ExecuteTime": {
     "end_time": "2023-11-17T15:04:38.108230800Z",
     "start_time": "2023-11-17T15:04:38.094536100Z"
    }
   },
   "id": "55cbc472f03e7182"
  },
  {
   "cell_type": "markdown",
   "source": [
    "### nn.Sequential"
   ],
   "metadata": {
    "collapsed": false
   },
   "id": "b97784f78c7d1d31"
  },
  {
   "cell_type": "code",
   "execution_count": 122,
   "outputs": [
    {
     "name": "stdout",
     "output_type": "stream",
     "text": [
      "torch.Size([3, 10])\n"
     ]
    },
    {
     "data": {
      "text/plain": "tensor([[-0.2352, -0.2778, -0.1246, -0.1669,  0.0826, -0.0531, -0.0434, -0.1218,\n         -0.0860, -0.2808],\n        [-0.0992, -0.1905, -0.1495,  0.0723,  0.0470, -0.0925, -0.2366, -0.0185,\n         -0.0081, -0.2828],\n        [-0.1344, -0.2732, -0.1670, -0.0695,  0.0744, -0.1595, -0.1871, -0.0918,\n         -0.0067, -0.2947]], grad_fn=<AddmmBackward0>)"
     },
     "execution_count": 122,
     "metadata": {},
     "output_type": "execute_result"
    }
   ],
   "source": [
    "seq_modules = nn.Sequential(\n",
    "    flatten,\n",
    "    layer1,\n",
    "    nn.ReLU(),\n",
    "    nn.Linear(20,10)\n",
    ")\n",
    "input_image = torch.rand(3,28,28)\n",
    "logits = seq_modules(input_image)\n",
    "print(logits.size())\n",
    "logits"
   ],
   "metadata": {
    "collapsed": false,
    "ExecuteTime": {
     "end_time": "2023-11-17T15:04:38.122441400Z",
     "start_time": "2023-11-17T15:04:38.108230800Z"
    }
   },
   "id": "fade9bc987d3ece5"
  },
  {
   "cell_type": "markdown",
   "source": [
    "### nn.Softmax"
   ],
   "metadata": {
    "collapsed": false
   },
   "id": "f62e4a8d6d35e606"
  },
  {
   "cell_type": "code",
   "execution_count": 123,
   "outputs": [
    {
     "data": {
      "text/plain": "tensor([[0.0895, 0.0858, 0.1000, 0.0959, 0.1230, 0.1074, 0.1085, 0.1003, 0.1040,\n         0.0856],\n        [0.0990, 0.0904, 0.0942, 0.1176, 0.1146, 0.0997, 0.0863, 0.1073, 0.1085,\n         0.0824],\n        [0.0991, 0.0862, 0.0959, 0.1057, 0.1221, 0.0966, 0.0940, 0.1034, 0.1126,\n         0.0844]], grad_fn=<SoftmaxBackward0>)"
     },
     "execution_count": 123,
     "metadata": {},
     "output_type": "execute_result"
    }
   ],
   "source": [
    "softmax = nn.Softmax(dim=1)\n",
    "pred_probab = softmax(logits)\n",
    "pred_probab"
   ],
   "metadata": {
    "collapsed": false,
    "ExecuteTime": {
     "end_time": "2023-11-17T15:04:38.128954200Z",
     "start_time": "2023-11-17T15:04:38.122441400Z"
    }
   },
   "id": "ca23d37cf617a37a"
  },
  {
   "cell_type": "markdown",
   "source": [
    "## Model Parameters"
   ],
   "metadata": {
    "collapsed": false
   },
   "id": "42c64862983f25c4"
  },
  {
   "cell_type": "code",
   "execution_count": 124,
   "outputs": [
    {
     "name": "stdout",
     "output_type": "stream",
     "text": [
      "NeuralNetwork(\n",
      "  (flatten): Flatten(start_dim=1, end_dim=-1)\n",
      "  (linear_relu_stack): Sequential(\n",
      "    (0): Linear(in_features=784, out_features=512, bias=True)\n",
      "    (1): ReLU()\n",
      "    (2): Linear(in_features=512, out_features=512, bias=True)\n",
      "    (3): ReLU()\n",
      "    (4): Linear(in_features=512, out_features=10, bias=True)\n",
      "  )\n",
      ")\n",
      "Layer: linear_relu_stack.0.weight | Size: torch.Size([512, 784]) | Values : tensor([[ 0.0285,  0.0162,  0.0355,  ..., -0.0274,  0.0306, -0.0347],\n",
      "        [-0.0039,  0.0353, -0.0045,  ...,  0.0240, -0.0260,  0.0228]],\n",
      "       device='cuda:0', grad_fn=<SliceBackward0>) \n",
      "\n",
      "Layer: linear_relu_stack.0.bias | Size: torch.Size([512]) | Values : tensor([-0.0043,  0.0074], device='cuda:0', grad_fn=<SliceBackward0>) \n",
      "\n",
      "Layer: linear_relu_stack.2.weight | Size: torch.Size([512, 512]) | Values : tensor([[ 0.0068, -0.0260, -0.0098,  ...,  0.0299, -0.0395,  0.0009],\n",
      "        [-0.0298, -0.0286, -0.0413,  ...,  0.0405,  0.0220, -0.0080]],\n",
      "       device='cuda:0', grad_fn=<SliceBackward0>) \n",
      "\n",
      "Layer: linear_relu_stack.2.bias | Size: torch.Size([512]) | Values : tensor([ 0.0375, -0.0126], device='cuda:0', grad_fn=<SliceBackward0>) \n",
      "\n",
      "Layer: linear_relu_stack.4.weight | Size: torch.Size([10, 512]) | Values : tensor([[-0.0431, -0.0228,  0.0018,  ..., -0.0155, -0.0389,  0.0104],\n",
      "        [-0.0154, -0.0151,  0.0273,  ...,  0.0274, -0.0170, -0.0182]],\n",
      "       device='cuda:0', grad_fn=<SliceBackward0>) \n",
      "\n",
      "Layer: linear_relu_stack.4.bias | Size: torch.Size([10]) | Values : tensor([-0.0303,  0.0012], device='cuda:0', grad_fn=<SliceBackward0>) \n"
     ]
    }
   ],
   "source": [
    "print(model)\n",
    "for name, param in model.named_parameters():\n",
    "    print(f\"Layer: {name} | Size: {param.size()} | Values : {param[:2]} \\n\")"
   ],
   "metadata": {
    "collapsed": false,
    "ExecuteTime": {
     "end_time": "2023-11-17T15:04:38.210847300Z",
     "start_time": "2023-11-17T15:04:38.128954200Z"
    }
   },
   "id": "9e287ab675fd289e"
  }
 ],
 "metadata": {
  "kernelspec": {
   "display_name": "Python 3",
   "language": "python",
   "name": "python3"
  },
  "language_info": {
   "codemirror_mode": {
    "name": "ipython",
    "version": 2
   },
   "file_extension": ".py",
   "mimetype": "text/x-python",
   "name": "python",
   "nbconvert_exporter": "python",
   "pygments_lexer": "ipython2",
   "version": "2.7.6"
  }
 },
 "nbformat": 4,
 "nbformat_minor": 5
}
