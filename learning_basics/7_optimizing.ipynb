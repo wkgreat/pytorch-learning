{
 "cells": [
  {
   "cell_type": "markdown",
   "source": [
    "# Optimizing Model Parameters\n",
    "相关参考链接  \n",
    "[教程链接](https://pytorch.org/tutorials/beginner/basics/optimization_tutorial.html)\n",
    "[3B1B关于back propagation的讲解](https://www.youtube.com/watch?v=tIeHLnjs5U8)"
   ],
   "metadata": {
    "collapsed": false
   },
   "id": "2874b748792479de"
  },
  {
   "cell_type": "code",
   "execution_count": 2,
   "outputs": [],
   "source": [
    "import torch\n",
    "from torch import nn\n",
    "from torch.utils.data import DataLoader\n",
    "from torchvision import datasets\n",
    "from torchvision.transforms import ToTensor\n",
    "\n",
    "training_data = datasets.FashionMNIST(\n",
    "    root=\"data\",\n",
    "    train=True,\n",
    "    download=True,\n",
    "    transform=ToTensor()\n",
    ")\n",
    "\n",
    "test_data = datasets.FashionMNIST(\n",
    "    root=\"data\",\n",
    "    train=False,\n",
    "    download=True,\n",
    "    transform=ToTensor()\n",
    ")\n",
    "\n",
    "train_dataloader = DataLoader(training_data, batch_size=64)\n",
    "test_dataloader = DataLoader(test_data, batch_size=64)\n",
    "\n",
    "class NeuralNetwork(nn.Module):\n",
    "    def __init__(self):\n",
    "        super().__init__()\n",
    "        self.flatten = nn.Flatten()\n",
    "        self.linear_relu_stack = nn.Sequential(\n",
    "            nn.Linear(28*28, 512),\n",
    "            nn.ReLU(),\n",
    "            nn.Linear(512, 512),\n",
    "            nn.ReLU(),\n",
    "            nn.Linear(512, 10),\n",
    "        )\n",
    "\n",
    "    def forward(self, x):\n",
    "        x = self.flatten(x)\n",
    "        logits = self.linear_relu_stack(x)\n",
    "        return logits\n",
    "\n",
    "model = NeuralNetwork()"
   ],
   "metadata": {
    "collapsed": false,
    "ExecuteTime": {
     "end_time": "2023-11-18T14:50:55.042685600Z",
     "start_time": "2023-11-18T14:50:54.863734100Z"
    }
   },
   "id": "b95e9375f3574234"
  },
  {
   "cell_type": "markdown",
   "source": [
    "## Hyperparameters\n",
    "* numer of epochs\n",
    "* batch size\n",
    "* learning rate"
   ],
   "metadata": {
    "collapsed": false
   },
   "id": "efabf78f2b3b31b9"
  },
  {
   "cell_type": "code",
   "execution_count": 3,
   "outputs": [],
   "source": [
    "learning_rate = 1e-3\n",
    "batch_size = 64\n",
    "epochs = 5"
   ],
   "metadata": {
    "collapsed": false,
    "ExecuteTime": {
     "end_time": "2023-11-18T14:50:55.042685600Z",
     "start_time": "2023-11-18T14:50:54.928593400Z"
    }
   },
   "id": "2e2f332fd0d362a8"
  },
  {
   "cell_type": "markdown",
   "source": [
    "## Optimization Loop"
   ],
   "metadata": {
    "collapsed": false
   },
   "id": "19705fdb4f45659b"
  },
  {
   "cell_type": "markdown",
   "source": [
    "## Loss Function"
   ],
   "metadata": {
    "collapsed": false
   },
   "id": "3d31ce763cda211a"
  },
  {
   "cell_type": "code",
   "execution_count": 4,
   "outputs": [],
   "source": [
    "loss_fn = nn.CrossEntropyLoss()"
   ],
   "metadata": {
    "collapsed": false,
    "ExecuteTime": {
     "end_time": "2023-11-18T14:50:55.042685600Z",
     "start_time": "2023-11-18T14:50:54.936037800Z"
    }
   },
   "id": "9d250d4985f0aea9"
  },
  {
   "cell_type": "markdown",
   "source": [
    "## Optimizer"
   ],
   "metadata": {
    "collapsed": false
   },
   "id": "4ff380c5a36ecb0b"
  },
  {
   "cell_type": "code",
   "execution_count": 5,
   "outputs": [],
   "source": [
    "optimizer = torch.optim.SGD(model.parameters(), lr=learning_rate)"
   ],
   "metadata": {
    "collapsed": false,
    "ExecuteTime": {
     "end_time": "2023-11-18T14:50:55.042685600Z",
     "start_time": "2023-11-18T14:50:54.946271600Z"
    }
   },
   "id": "a09f8ae3812390ca"
  },
  {
   "cell_type": "markdown",
   "source": [
    "## Full Implementation"
   ],
   "metadata": {
    "collapsed": false
   },
   "id": "fbc2e6d84ee5c283"
  },
  {
   "cell_type": "code",
   "execution_count": 6,
   "outputs": [],
   "source": [
    "def train_loop(dataloader, model, loss_fn, optimizer):\n",
    "    size = len(dataloader.dataset)\n",
    "    # Set the model to training mode - important for batch normalization and dropout layers\n",
    "    # Unnecessary in this situation but added for best practices\n",
    "    model.train()\n",
    "    for batch, (X, y) in enumerate(dataloader):\n",
    "        # Compute prediction and loss\n",
    "        pred = model(X)\n",
    "        loss = loss_fn(pred, y)\n",
    "\n",
    "        # Backpropagation\n",
    "        loss.backward()\n",
    "        optimizer.step()\n",
    "        optimizer.zero_grad()\n",
    "\n",
    "        if batch % 100 == 0:\n",
    "            loss, current = loss.item(), (batch + 1) * len(X)\n",
    "            print(f\"loss: {loss:>7f}  [{current:>5d}/{size:>5d}]\")\n",
    "\n",
    "\n",
    "def test_loop(dataloader, model, loss_fn):\n",
    "    # Set the model to evaluation mode - important for batch normalization and dropout layers\n",
    "    # Unnecessary in this situation but added for best practices\n",
    "    model.eval()\n",
    "    size = len(dataloader.dataset)\n",
    "    num_batches = len(dataloader)\n",
    "    test_loss, correct = 0, 0\n",
    "\n",
    "    # Evaluating the model with torch.no_grad() ensures that no gradients are computed during test mode\n",
    "    # also serves to reduce unnecessary gradient computations and memory usage for tensors with requires_grad=True\n",
    "    with torch.no_grad():\n",
    "        for X, y in dataloader:\n",
    "            pred = model(X)\n",
    "            test_loss += loss_fn(pred, y).item()\n",
    "            correct += (pred.argmax(1) == y).type(torch.float).sum().item()\n",
    "\n",
    "    test_loss /= num_batches\n",
    "    correct /= size\n",
    "    print(f\"Test Error: \\n Accuracy: {(100*correct):>0.1f}%, Avg loss: {test_loss:>8f} \\n\")"
   ],
   "metadata": {
    "collapsed": false,
    "ExecuteTime": {
     "end_time": "2023-11-18T14:50:55.072118100Z",
     "start_time": "2023-11-18T14:50:54.960784Z"
    }
   },
   "id": "27462749f81389ca"
  },
  {
   "cell_type": "code",
   "execution_count": 7,
   "outputs": [
    {
     "name": "stdout",
     "output_type": "stream",
     "text": [
      "Epoch 1\n",
      "-------------------------------\n",
      "loss: 2.307389  [   64/60000]\n",
      "loss: 2.297274  [ 6464/60000]\n",
      "loss: 2.278791  [12864/60000]\n",
      "loss: 2.277838  [19264/60000]\n",
      "loss: 2.258614  [25664/60000]\n",
      "loss: 2.231742  [32064/60000]\n",
      "loss: 2.233716  [38464/60000]\n",
      "loss: 2.198623  [44864/60000]\n",
      "loss: 2.210703  [51264/60000]\n",
      "loss: 2.178663  [57664/60000]\n",
      "Test Error: \n",
      " Accuracy: 37.9%, Avg loss: 2.171231 \n",
      "\n",
      "Epoch 2\n",
      "-------------------------------\n",
      "loss: 2.181728  [   64/60000]\n",
      "loss: 2.175353  [ 6464/60000]\n",
      "loss: 2.120527  [12864/60000]\n",
      "loss: 2.139343  [19264/60000]\n",
      "loss: 2.089977  [25664/60000]\n",
      "loss: 2.034651  [32064/60000]\n",
      "loss: 2.058110  [38464/60000]\n",
      "loss: 1.978789  [44864/60000]\n",
      "loss: 1.995381  [51264/60000]\n",
      "loss: 1.926898  [57664/60000]\n",
      "Test Error: \n",
      " Accuracy: 55.5%, Avg loss: 1.919141 \n",
      "\n",
      "Epoch 3\n",
      "-------------------------------\n",
      "loss: 1.951653  [   64/60000]\n",
      "loss: 1.926196  [ 6464/60000]\n",
      "loss: 1.810832  [12864/60000]\n",
      "loss: 1.850012  [19264/60000]\n",
      "loss: 1.746130  [25664/60000]\n",
      "loss: 1.691947  [32064/60000]\n",
      "loss: 1.713187  [38464/60000]\n",
      "loss: 1.602631  [44864/60000]\n",
      "loss: 1.634922  [51264/60000]\n",
      "loss: 1.534686  [57664/60000]\n",
      "Test Error: \n",
      " Accuracy: 59.7%, Avg loss: 1.543763 \n",
      "\n",
      "Epoch 4\n",
      "-------------------------------\n",
      "loss: 1.607602  [   64/60000]\n",
      "loss: 1.573589  [ 6464/60000]\n",
      "loss: 1.421486  [12864/60000]\n",
      "loss: 1.497483  [19264/60000]\n",
      "loss: 1.379882  [25664/60000]\n",
      "loss: 1.368220  [32064/60000]\n",
      "loss: 1.384331  [38464/60000]\n",
      "loss: 1.293743  [44864/60000]\n",
      "loss: 1.335540  [51264/60000]\n",
      "loss: 1.243190  [57664/60000]\n",
      "Test Error: \n",
      " Accuracy: 63.1%, Avg loss: 1.263767 \n",
      "\n",
      "Epoch 5\n",
      "-------------------------------\n",
      "loss: 1.336234  [   64/60000]\n",
      "loss: 1.318360  [ 6464/60000]\n",
      "loss: 1.151958  [12864/60000]\n",
      "loss: 1.263586  [19264/60000]\n",
      "loss: 1.140792  [25664/60000]\n",
      "loss: 1.162346  [32064/60000]\n",
      "loss: 1.183728  [38464/60000]\n",
      "loss: 1.108713  [44864/60000]\n",
      "loss: 1.151386  [51264/60000]\n",
      "loss: 1.075279  [57664/60000]\n",
      "Test Error: \n",
      " Accuracy: 64.7%, Avg loss: 1.092599 \n",
      "\n",
      "Epoch 6\n",
      "-------------------------------\n",
      "loss: 1.157827  [   64/60000]\n",
      "loss: 1.159381  [ 6464/60000]\n",
      "loss: 0.977993  [12864/60000]\n",
      "loss: 1.117602  [19264/60000]\n",
      "loss: 0.993661  [25664/60000]\n",
      "loss: 1.026168  [32064/60000]\n",
      "loss: 1.060842  [38464/60000]\n",
      "loss: 0.993832  [44864/60000]\n",
      "loss: 1.034021  [51264/60000]\n",
      "loss: 0.970488  [57664/60000]\n",
      "Test Error: \n",
      " Accuracy: 65.8%, Avg loss: 0.983276 \n",
      "\n",
      "Epoch 7\n",
      "-------------------------------\n",
      "loss: 1.035977  [   64/60000]\n",
      "loss: 1.056812  [ 6464/60000]\n",
      "loss: 0.860627  [12864/60000]\n",
      "loss: 1.020777  [19264/60000]\n",
      "loss: 0.901595  [25664/60000]\n",
      "loss: 0.931029  [32064/60000]\n",
      "loss: 0.980411  [38464/60000]\n",
      "loss: 0.920175  [44864/60000]\n",
      "loss: 0.954359  [51264/60000]\n",
      "loss: 0.900908  [57664/60000]\n",
      "Test Error: \n",
      " Accuracy: 67.0%, Avg loss: 0.909633 \n",
      "\n",
      "Epoch 8\n",
      "-------------------------------\n",
      "loss: 0.947580  [   64/60000]\n",
      "loss: 0.986252  [ 6464/60000]\n",
      "loss: 0.777965  [12864/60000]\n",
      "loss: 0.953173  [19264/60000]\n",
      "loss: 0.840679  [25664/60000]\n",
      "loss: 0.861956  [32064/60000]\n",
      "loss: 0.923982  [38464/60000]\n",
      "loss: 0.871430  [44864/60000]\n",
      "loss: 0.897994  [51264/60000]\n",
      "loss: 0.851533  [57664/60000]\n",
      "Test Error: \n",
      " Accuracy: 68.4%, Avg loss: 0.857215 \n",
      "\n",
      "Epoch 9\n",
      "-------------------------------\n",
      "loss: 0.880106  [   64/60000]\n",
      "loss: 0.934057  [ 6464/60000]\n",
      "loss: 0.716854  [12864/60000]\n",
      "loss: 0.903963  [19264/60000]\n",
      "loss: 0.797499  [25664/60000]\n",
      "loss: 0.810257  [32064/60000]\n",
      "loss: 0.881388  [38464/60000]\n",
      "loss: 0.837755  [44864/60000]\n",
      "loss: 0.856420  [51264/60000]\n",
      "loss: 0.814406  [57664/60000]\n",
      "Test Error: \n",
      " Accuracy: 69.7%, Avg loss: 0.817888 \n",
      "\n",
      "Epoch 10\n",
      "-------------------------------\n",
      "loss: 0.826440  [   64/60000]\n",
      "loss: 0.892596  [ 6464/60000]\n",
      "loss: 0.669650  [12864/60000]\n",
      "loss: 0.866800  [19264/60000]\n",
      "loss: 0.764857  [25664/60000]\n",
      "loss: 0.770590  [32064/60000]\n",
      "loss: 0.847151  [38464/60000]\n",
      "loss: 0.812959  [44864/60000]\n",
      "loss: 0.824621  [51264/60000]\n",
      "loss: 0.785085  [57664/60000]\n",
      "Test Error: \n",
      " Accuracy: 71.0%, Avg loss: 0.786962 \n",
      "\n",
      "Done!\n"
     ]
    }
   ],
   "source": [
    "loss_fn = nn.CrossEntropyLoss()\n",
    "optimizer = torch.optim.SGD(model.parameters(), lr=learning_rate)\n",
    "\n",
    "epochs = 10\n",
    "for t in range(epochs):\n",
    "    print(f\"Epoch {t+1}\\n-------------------------------\")\n",
    "    train_loop(train_dataloader, model, loss_fn, optimizer)\n",
    "    test_loop(test_dataloader, model, loss_fn)\n",
    "print(\"Done!\")"
   ],
   "metadata": {
    "collapsed": false,
    "ExecuteTime": {
     "end_time": "2023-11-18T14:53:11.408690800Z",
     "start_time": "2023-11-18T14:50:54.973114300Z"
    }
   },
   "id": "ef5e04131f310857"
  }
 ],
 "metadata": {
  "kernelspec": {
   "display_name": "Python 3",
   "language": "python",
   "name": "python3"
  },
  "language_info": {
   "codemirror_mode": {
    "name": "ipython",
    "version": 2
   },
   "file_extension": ".py",
   "mimetype": "text/x-python",
   "name": "python",
   "nbconvert_exporter": "python",
   "pygments_lexer": "ipython2",
   "version": "2.7.6"
  }
 },
 "nbformat": 4,
 "nbformat_minor": 5
}
