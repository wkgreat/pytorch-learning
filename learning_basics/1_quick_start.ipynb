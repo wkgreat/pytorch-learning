{
 "cells": [
  {
   "cell_type": "markdown",
   "source": [
    "  # DataLoader and Dataset"
   ],
   "metadata": {
    "collapsed": false
   },
   "id": "bf84a899f9b88802"
  },
  {
   "cell_type": "code",
   "execution_count": 11,
   "outputs": [],
   "source": [
    "import torch\n",
    "from torch import nn\n",
    "from torch.utils.data import DataLoader\n",
    "from torchvision import datasets\n",
    "from torchvision.transforms import ToTensor"
   ],
   "metadata": {
    "collapsed": false,
    "ExecuteTime": {
     "end_time": "2023-11-16T08:09:05.882160300Z",
     "start_time": "2023-11-16T08:09:05.849325200Z"
    }
   },
   "id": "d8379eedae9bd9fd"
  },
  {
   "cell_type": "code",
   "execution_count": 12,
   "outputs": [],
   "source": [
    "training_data = datasets.FashionMNIST(\n",
    "    root=\"data\",\n",
    "    train=True,\n",
    "    download=True,\n",
    "    transform=ToTensor()\n",
    ")\n",
    "\n",
    "test_data = datasets.FashionMNIST(\n",
    "    root=\"data\",\n",
    "    train=False,\n",
    "    download=True,\n",
    "    transform=ToTensor()\n",
    ")"
   ],
   "metadata": {
    "collapsed": false,
    "ExecuteTime": {
     "end_time": "2023-11-16T08:09:05.914811600Z",
     "start_time": "2023-11-16T08:09:05.856970800Z"
    }
   },
   "id": "5297c4c0793f34c5"
  },
  {
   "cell_type": "code",
   "execution_count": 13,
   "outputs": [
    {
     "name": "stdout",
     "output_type": "stream",
     "text": [
      "Shape of X[N, C, H, W]: torch.Size([64, 1, 28, 28])\n",
      "Shape of y: torch.Size([64]) torch.int64\n"
     ]
    }
   ],
   "source": [
    "batch_size = 64\n",
    "train_dataloader = DataLoader(training_data, batch_size=batch_size)\n",
    "test_dataloader = DataLoader(test_data, batch_size=batch_size)\n",
    "\n",
    "for X,y in test_dataloader:\n",
    "    print(f\"Shape of X[N, C, H, W]: {X.shape}\")\n",
    "    print(f\"Shape of y: {y.shape} {y.dtype}\")\n",
    "    break"
   ],
   "metadata": {
    "collapsed": false,
    "ExecuteTime": {
     "end_time": "2023-11-16T08:09:05.953579900Z",
     "start_time": "2023-11-16T08:09:05.906810300Z"
    }
   },
   "id": "b239e038b33cc111"
  },
  {
   "cell_type": "code",
   "execution_count": 21,
   "outputs": [
    {
     "name": "stdout",
     "output_type": "stream",
     "text": [
      "tensor([[[[0., 0., 0.,  ..., 0., 0., 0.],\n",
      "          [0., 0., 0.,  ..., 0., 0., 0.],\n",
      "          [0., 0., 0.,  ..., 0., 0., 0.],\n",
      "          ...,\n",
      "          [0., 0., 0.,  ..., 0., 0., 0.],\n",
      "          [0., 0., 0.,  ..., 0., 0., 0.],\n",
      "          [0., 0., 0.,  ..., 0., 0., 0.]]],\n",
      "\n",
      "\n",
      "        [[[0., 0., 0.,  ..., 0., 0., 0.],\n",
      "          [0., 0., 0.,  ..., 0., 0., 0.],\n",
      "          [0., 0., 0.,  ..., 0., 0., 0.],\n",
      "          ...,\n",
      "          [0., 0., 0.,  ..., 0., 0., 0.],\n",
      "          [0., 0., 0.,  ..., 0., 0., 0.],\n",
      "          [0., 0., 0.,  ..., 0., 0., 0.]]],\n",
      "\n",
      "\n",
      "        [[[0., 0., 0.,  ..., 0., 0., 0.],\n",
      "          [0., 0., 0.,  ..., 0., 0., 0.],\n",
      "          [0., 0., 0.,  ..., 0., 0., 0.],\n",
      "          ...,\n",
      "          [0., 0., 0.,  ..., 0., 0., 0.],\n",
      "          [0., 0., 0.,  ..., 0., 0., 0.],\n",
      "          [0., 0., 0.,  ..., 0., 0., 0.]]],\n",
      "\n",
      "\n",
      "        ...,\n",
      "\n",
      "\n",
      "        [[[0., 0., 0.,  ..., 0., 0., 0.],\n",
      "          [0., 0., 0.,  ..., 0., 0., 0.],\n",
      "          [0., 0., 0.,  ..., 0., 0., 0.],\n",
      "          ...,\n",
      "          [0., 0., 0.,  ..., 0., 0., 0.],\n",
      "          [0., 0., 0.,  ..., 0., 0., 0.],\n",
      "          [0., 0., 0.,  ..., 0., 0., 0.]]],\n",
      "\n",
      "\n",
      "        [[[0., 0., 0.,  ..., 0., 0., 0.],\n",
      "          [0., 0., 0.,  ..., 0., 0., 0.],\n",
      "          [0., 0., 0.,  ..., 0., 0., 0.],\n",
      "          ...,\n",
      "          [0., 0., 0.,  ..., 0., 0., 0.],\n",
      "          [0., 0., 0.,  ..., 0., 0., 0.],\n",
      "          [0., 0., 0.,  ..., 0., 0., 0.]]],\n",
      "\n",
      "\n",
      "        [[[0., 0., 0.,  ..., 0., 0., 0.],\n",
      "          [0., 0., 0.,  ..., 0., 0., 0.],\n",
      "          [0., 0., 0.,  ..., 0., 0., 0.],\n",
      "          ...,\n",
      "          [0., 0., 0.,  ..., 0., 0., 0.],\n",
      "          [0., 0., 0.,  ..., 0., 0., 0.],\n",
      "          [0., 0., 0.,  ..., 0., 0., 0.]]]])\n",
      "tensor([9, 2, 1, 1, 6, 1, 4, 6, 5, 7, 4, 5, 7, 3, 4, 1, 2, 4, 8, 0, 2, 5, 7, 9,\n",
      "        1, 4, 6, 0, 9, 3, 8, 8, 3, 3, 8, 0, 7, 5, 7, 9, 6, 1, 3, 7, 6, 7, 2, 1,\n",
      "        2, 2, 4, 4, 5, 8, 2, 2, 8, 4, 8, 0, 7, 7, 8, 5])\n",
      "None\n",
      "None\n"
     ]
    }
   ],
   "source": [
    "for X,y in test_dataloader:\n",
    "    print(X)\n",
    "    print(y)\n",
    "    print(X.grad)\n",
    "    print(y.grad)\n",
    "    break"
   ],
   "metadata": {
    "collapsed": false,
    "ExecuteTime": {
     "end_time": "2023-11-16T08:17:39.280038500Z",
     "start_time": "2023-11-16T08:17:39.262500600Z"
    }
   },
   "id": "42cc81c70e97dcfb"
  },
  {
   "cell_type": "markdown",
   "source": [
    "# Creating Models"
   ],
   "metadata": {
    "collapsed": false
   },
   "id": "5b7c5a1641e1e00b"
  },
  {
   "cell_type": "code",
   "execution_count": 15,
   "outputs": [
    {
     "name": "stdout",
     "output_type": "stream",
     "text": [
      "Using cuda device\n"
     ]
    }
   ],
   "source": [
    "device = (\n",
    "    \"cuda\"\n",
    "    if torch.cuda.is_available()\n",
    "    else \"mps\"\n",
    "    if torch.backends.mps.is_avaliable()\n",
    "    else \"cpu\"\n",
    ")\n",
    "print(f\"Using {device} device\")"
   ],
   "metadata": {
    "collapsed": false,
    "ExecuteTime": {
     "end_time": "2023-11-16T08:09:05.955581400Z",
     "start_time": "2023-11-16T08:09:05.936063200Z"
    }
   },
   "id": "dfdd33096e536458"
  },
  {
   "cell_type": "markdown",
   "source": [
    "WK: \n",
    "nn.Flatten(): 扁平化处理\n",
    "nn.Sequential(): 模型序列\n",
    "nn.Linear: linear transformation $y=xA^T+b$\n",
    "nn.ReLU(rectified linear unit function)激活函数 $ReLU(x)=(x)^+ = max(0,x)$\n"
   ],
   "metadata": {
    "collapsed": false
   },
   "id": "3d4d29ebcc9508e8"
  },
  {
   "cell_type": "code",
   "execution_count": 16,
   "outputs": [
    {
     "name": "stdout",
     "output_type": "stream",
     "text": [
      "NeuralNetwork(\n",
      "  (flatten): Flatten(start_dim=1, end_dim=-1)\n",
      "  (linear_relu_stack): Sequential(\n",
      "    (0): Linear(in_features=784, out_features=512, bias=True)\n",
      "    (1): ReLU()\n",
      "    (2): Linear(in_features=512, out_features=512, bias=True)\n",
      "    (3): ReLU()\n",
      "    (4): Linear(in_features=512, out_features=10, bias=True)\n",
      "  )\n",
      ")\n"
     ]
    }
   ],
   "source": [
    "# Define model\n",
    "class NeuralNetwork(nn.Module):\n",
    "    def __init__(self):\n",
    "        super().__init__()\n",
    "        self.flatten = nn.Flatten()\n",
    "        self.linear_relu_stack = nn.Sequential(\n",
    "            nn.Linear(28*28, 512),\n",
    "            nn.ReLU(),\n",
    "            nn.Linear(512,512),\n",
    "            nn.ReLU(),\n",
    "            nn.Linear(512,10)\n",
    "        )\n",
    "        \n",
    "    def forward(self, x):\n",
    "        x = self.flatten(x)\n",
    "        logits = self.linear_relu_stack(x)\n",
    "        return logits\n",
    "\n",
    "model = NeuralNetwork().to(device)\n",
    "print(model)"
   ],
   "metadata": {
    "collapsed": false,
    "ExecuteTime": {
     "end_time": "2023-11-16T08:09:06.008090500Z",
     "start_time": "2023-11-16T08:09:05.938572800Z"
    }
   },
   "id": "633ffa506b126df7"
  },
  {
   "cell_type": "markdown",
   "source": [
    "# Optimizing\n",
    "loss function and optimizer"
   ],
   "metadata": {
    "collapsed": false
   },
   "id": "f9c9d6826499fa7e"
  },
  {
   "cell_type": "markdown",
   "source": [
    "* nn.CrossEntropyLoss 交叉熵损失函数\n",
    "* torch.optim.SGD (Stochastic Gradient Descent)"
   ],
   "metadata": {
    "collapsed": false
   },
   "id": "a3951abffcc6b240"
  },
  {
   "cell_type": "code",
   "execution_count": 17,
   "outputs": [],
   "source": [
    "loss_fn = nn.CrossEntropyLoss()\n",
    "optimizer = torch.optim.SGD(model.parameters(), lr=1e-3)"
   ],
   "metadata": {
    "collapsed": false,
    "ExecuteTime": {
     "end_time": "2023-11-16T08:09:06.009092Z",
     "start_time": "2023-11-16T08:09:05.955581400Z"
    }
   },
   "id": "aaf55fa58cb9a765"
  },
  {
   "cell_type": "markdown",
   "source": [
    "* model.train() 设置模型为训练模式\n",
    "* Tensor.backward() 关于叶节点计算梯度 [解释](https://zhuanlan.zhihu.com/p/592176365)\n",
    "* optimizer.step() 执行一步优化\n",
    "* optimizer.zero_grad() 重置梯度"
   ],
   "metadata": {
    "collapsed": false
   },
   "id": "e9f5f4f657137e38"
  },
  {
   "cell_type": "code",
   "execution_count": 18,
   "outputs": [],
   "source": [
    "def train(dataLoader:DataLoader, model:nn.Module, loss_fn, optimizer):\n",
    "    size = len(dataLoader.dataset)\n",
    "    model.train()\n",
    "    for batch, (X, y) in enumerate(dataLoader):\n",
    "        X, y = X.to(device), y.to(device)\n",
    "        \n",
    "        # Compute prediction error\n",
    "        pred = model(X)\n",
    "        loss = loss_fn(pred, y)\n",
    "        \n",
    "        # Backpropagation\n",
    "        loss.backward()\n",
    "        optimizer.step()\n",
    "        optimizer.zero_grad()\n",
    "        \n",
    "        if batch % 100 == 0:\n",
    "            loss, current = loss.item(), (batch+1) * len(X)\n",
    "            print(f\"loss: {loss:>7f}  [{current:>5d}/{size:>5d}]\")"
   ],
   "metadata": {
    "collapsed": false,
    "ExecuteTime": {
     "end_time": "2023-11-16T08:09:06.009092Z",
     "start_time": "2023-11-16T08:09:05.960649200Z"
    }
   },
   "id": "220b59e6985c0b71"
  },
  {
   "cell_type": "markdown",
   "source": [
    "* model.eval() 设置模型为 evaluation 模式\n",
    "* torch.no_grad() 上下文，用以停止梯度计算，用以减少内存消耗"
   ],
   "metadata": {
    "collapsed": false
   },
   "id": "44919589a493c500"
  },
  {
   "cell_type": "code",
   "execution_count": 19,
   "outputs": [],
   "source": [
    "def test(dataloader, model, loss_fn):\n",
    "    size = len(dataloader.dataset)\n",
    "    num_batches = len(dataloader)\n",
    "    model.eval()\n",
    "    test_loss, correct = 0, 0\n",
    "    with torch.no_grad():\n",
    "        for X, y in dataloader:\n",
    "            X, y = X.to(device), y.to(device)\n",
    "            pred = model(X)\n",
    "            test_loss += loss_fn(pred, y).item()\n",
    "            correct += (pred.argmax(1) == y).type(torch.float).sum().item()\n",
    "    test_loss /= size\n",
    "    correct /= size\n",
    "    print(f\"Test Error: \\n Accuracy: {(100*correct):>0.1f}%, Avg loss: {test_loss:>8f} \\n\")"
   ],
   "metadata": {
    "collapsed": false,
    "ExecuteTime": {
     "end_time": "2023-11-16T08:09:06.010091700Z",
     "start_time": "2023-11-16T08:09:05.969387700Z"
    }
   },
   "id": "2764b14cca1d65e"
  },
  {
   "cell_type": "code",
   "execution_count": 20,
   "outputs": [
    {
     "name": "stdout",
     "output_type": "stream",
     "text": [
      "Epoch 1\n",
      "-------------------------------\n",
      "loss: 2.306227  [   64/60000]\n",
      "loss: 2.300326  [ 6464/60000]\n",
      "loss: 2.276404  [12864/60000]\n",
      "loss: 2.267387  [19264/60000]\n",
      "loss: 2.265606  [25664/60000]\n",
      "loss: 2.219690  [32064/60000]\n",
      "loss: 2.233914  [38464/60000]\n",
      "loss: 2.199520  [44864/60000]\n",
      "loss: 2.197933  [51264/60000]\n",
      "loss: 2.165333  [57664/60000]\n",
      "Test Error: \n",
      " Accuracy: 29.3%, Avg loss: 0.033975 \n",
      "\n",
      "Epoch 2\n",
      "-------------------------------\n",
      "loss: 2.175581  [   64/60000]\n",
      "loss: 2.179806  [ 6464/60000]\n",
      "loss: 2.119908  [12864/60000]\n",
      "loss: 2.129442  [19264/60000]\n",
      "loss: 2.102808  [25664/60000]\n",
      "loss: 2.021377  [32064/60000]\n",
      "loss: 2.060403  [38464/60000]\n",
      "loss: 1.988017  [44864/60000]\n",
      "loss: 1.991624  [51264/60000]\n",
      "loss: 1.918264  [57664/60000]\n",
      "Test Error: \n",
      " Accuracy: 57.6%, Avg loss: 0.030221 \n",
      "\n",
      "Epoch 3\n",
      "-------------------------------\n",
      "loss: 1.961856  [   64/60000]\n",
      "loss: 1.943623  [ 6464/60000]\n",
      "loss: 1.831151  [12864/60000]\n",
      "loss: 1.857702  [19264/60000]\n",
      "loss: 1.770739  [25664/60000]\n",
      "loss: 1.700946  [32064/60000]\n",
      "loss: 1.730387  [38464/60000]\n",
      "loss: 1.632646  [44864/60000]\n",
      "loss: 1.653114  [51264/60000]\n",
      "loss: 1.543555  [57664/60000]\n",
      "Test Error: \n",
      " Accuracy: 60.5%, Avg loss: 0.024542 \n",
      "\n",
      "Epoch 4\n",
      "-------------------------------\n",
      "loss: 1.636892  [   64/60000]\n",
      "loss: 1.599770  [ 6464/60000]\n",
      "loss: 1.449837  [12864/60000]\n",
      "loss: 1.509822  [19264/60000]\n",
      "loss: 1.403324  [25664/60000]\n",
      "loss: 1.382353  [32064/60000]\n",
      "loss: 1.403710  [38464/60000]\n",
      "loss: 1.323785  [44864/60000]\n",
      "loss: 1.356417  [51264/60000]\n",
      "loss: 1.255151  [57664/60000]\n",
      "Test Error: \n",
      " Accuracy: 63.6%, Avg loss: 0.020104 \n",
      "\n",
      "Epoch 5\n",
      "-------------------------------\n",
      "loss: 1.366707  [   64/60000]\n",
      "loss: 1.341892  [ 6464/60000]\n",
      "loss: 1.176728  [12864/60000]\n",
      "loss: 1.272386  [19264/60000]\n",
      "loss: 1.158494  [25664/60000]\n",
      "loss: 1.170820  [32064/60000]\n",
      "loss: 1.198121  [38464/60000]\n",
      "loss: 1.130383  [44864/60000]\n",
      "loss: 1.166060  [51264/60000]\n",
      "loss: 1.083104  [57664/60000]\n",
      "Test Error: \n",
      " Accuracy: 64.9%, Avg loss: 0.017320 \n",
      "\n",
      "Epoch 6\n",
      "-------------------------------\n",
      "loss: 1.182905  [   64/60000]\n",
      "loss: 1.179181  [ 6464/60000]\n",
      "loss: 0.998330  [12864/60000]\n",
      "loss: 1.123314  [19264/60000]\n",
      "loss: 1.005945  [25664/60000]\n",
      "loss: 1.029508  [32064/60000]\n",
      "loss: 1.069347  [38464/60000]\n",
      "loss: 1.007561  [44864/60000]\n",
      "loss: 1.043674  [51264/60000]\n",
      "loss: 0.974098  [57664/60000]\n",
      "Test Error: \n",
      " Accuracy: 65.8%, Avg loss: 0.015527 \n",
      "\n",
      "Epoch 7\n",
      "-------------------------------\n",
      "loss: 1.055965  [   64/60000]\n",
      "loss: 1.074708  [ 6464/60000]\n",
      "loss: 0.878062  [12864/60000]\n",
      "loss: 1.024080  [19264/60000]\n",
      "loss: 0.910331  [25664/60000]\n",
      "loss: 0.930986  [32064/60000]\n",
      "loss: 0.984971  [38464/60000]\n",
      "loss: 0.928398  [44864/60000]\n",
      "loss: 0.960165  [51264/60000]\n",
      "loss: 0.901405  [57664/60000]\n",
      "Test Error: \n",
      " Accuracy: 67.1%, Avg loss: 0.014319 \n",
      "\n",
      "Epoch 8\n",
      "-------------------------------\n",
      "loss: 0.963733  [   64/60000]\n",
      "loss: 1.003289  [ 6464/60000]\n",
      "loss: 0.793512  [12864/60000]\n",
      "loss: 0.955396  [19264/60000]\n",
      "loss: 0.847756  [25664/60000]\n",
      "loss: 0.860307  [32064/60000]\n",
      "loss: 0.926600  [38464/60000]\n",
      "loss: 0.876544  [44864/60000]\n",
      "loss: 0.900762  [51264/60000]\n",
      "loss: 0.849867  [57664/60000]\n",
      "Test Error: \n",
      " Accuracy: 68.4%, Avg loss: 0.013465 \n",
      "\n",
      "Epoch 9\n",
      "-------------------------------\n",
      "loss: 0.894261  [   64/60000]\n",
      "loss: 0.951278  [ 6464/60000]\n",
      "loss: 0.731881  [12864/60000]\n",
      "loss: 0.905589  [19264/60000]\n",
      "loss: 0.804147  [25664/60000]\n",
      "loss: 0.808076  [32064/60000]\n",
      "loss: 0.883385  [38464/60000]\n",
      "loss: 0.841223  [44864/60000]\n",
      "loss: 0.857486  [51264/60000]\n",
      "loss: 0.811232  [57664/60000]\n",
      "Test Error: \n",
      " Accuracy: 69.7%, Avg loss: 0.012833 \n",
      "\n",
      "Epoch 10\n",
      "-------------------------------\n",
      "loss: 0.839966  [   64/60000]\n",
      "loss: 0.910793  [ 6464/60000]\n",
      "loss: 0.684890  [12864/60000]\n",
      "loss: 0.868265  [19264/60000]\n",
      "loss: 0.771780  [25664/60000]\n",
      "loss: 0.768406  [32064/60000]\n",
      "loss: 0.849151  [38464/60000]\n",
      "loss: 0.815841  [44864/60000]\n",
      "loss: 0.824471  [51264/60000]\n",
      "loss: 0.780591  [57664/60000]\n",
      "Test Error: \n",
      " Accuracy: 70.7%, Avg loss: 0.012339 \n",
      "\n",
      "Done!\n"
     ]
    }
   ],
   "source": [
    "epochs = 10\n",
    "for t in range(epochs):\n",
    "    print(f\"Epoch {t+1}\\n-------------------------------\")\n",
    "    train(train_dataloader, model, loss_fn, optimizer)\n",
    "    test(test_dataloader, model, loss_fn)\n",
    "print(\"Done!\")"
   ],
   "metadata": {
    "collapsed": false,
    "ExecuteTime": {
     "end_time": "2023-11-16T08:10:00.123410600Z",
     "start_time": "2023-11-16T08:09:05.977091200Z"
    }
   },
   "id": "1c45a849450b541b"
  }
 ],
 "metadata": {
  "kernelspec": {
   "display_name": "Python 3",
   "language": "python",
   "name": "python3"
  },
  "language_info": {
   "codemirror_mode": {
    "name": "ipython",
    "version": 2
   },
   "file_extension": ".py",
   "mimetype": "text/x-python",
   "name": "python",
   "nbconvert_exporter": "python",
   "pygments_lexer": "ipython2",
   "version": "2.7.6"
  }
 },
 "nbformat": 4,
 "nbformat_minor": 5
}
