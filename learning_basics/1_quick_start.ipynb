{
 "cells": [
  {
   "cell_type": "markdown",
   "source": [
    "  # DataLoader and Dataset"
   ],
   "metadata": {
    "collapsed": false
   },
   "id": "bf84a899f9b88802"
  },
  {
   "cell_type": "code",
   "execution_count": null,
   "outputs": [],
   "source": [
    "import torch\n",
    "from torch import nn\n",
    "from torch.utils.data import DataLoader\n",
    "from torchvision import datasets\n",
    "from torchvision.transforms import ToTensor"
   ],
   "metadata": {
    "collapsed": false,
    "is_executing": true
   },
   "id": "d8379eedae9bd9fd"
  },
  {
   "cell_type": "code",
   "execution_count": null,
   "outputs": [],
   "source": [
    "training_data = datasets.FashionMNIST(\n",
    "    root=\"data\",\n",
    "    train=True,\n",
    "    download=True,\n",
    "    transform=ToTensor()\n",
    ")\n",
    "\n",
    "test_data = datasets.FashionMNIST(\n",
    "    root=\"data\",\n",
    "    train=False,\n",
    "    download=True,\n",
    "    transform=ToTensor()\n",
    ")"
   ],
   "metadata": {
    "collapsed": false,
    "is_executing": true
   },
   "id": "5297c4c0793f34c5"
  },
  {
   "cell_type": "code",
   "execution_count": null,
   "outputs": [],
   "source": [
    "batch_size = 64\n",
    "train_dataloader = DataLoader(training_data, batch_size=batch_size)\n",
    "test_dataloader = DataLoader(test_data, batch_size=batch_size)\n",
    "\n",
    "for X,y in test_dataloader:\n",
    "    print(f\"Shape of X[N, C, H, W]: {X.shape}\")\n",
    "    print(f\"Shape of y: {y.shape} {y.dtype}\")\n",
    "    break"
   ],
   "metadata": {
    "collapsed": false,
    "is_executing": true
   },
   "id": "b239e038b33cc111"
  },
  {
   "cell_type": "code",
   "execution_count": null,
   "outputs": [],
   "source": [
    "for X,y in test_dataloader:\n",
    "    print(X)\n",
    "    print(y)\n",
    "    print(X.grad)\n",
    "    print(y.grad)\n",
    "    break"
   ],
   "metadata": {
    "collapsed": false,
    "is_executing": true
   },
   "id": "42cc81c70e97dcfb"
  },
  {
   "cell_type": "markdown",
   "source": [
    "# Creating Models"
   ],
   "metadata": {
    "collapsed": false
   },
   "id": "5b7c5a1641e1e00b"
  },
  {
   "cell_type": "code",
   "execution_count": null,
   "outputs": [],
   "source": [
    "device = (\n",
    "    \"cuda\"\n",
    "    if torch.cuda.is_available()\n",
    "    else \"mps\"\n",
    "    if torch.backends.mps.is_avaliable()\n",
    "    else \"cpu\"\n",
    ")\n",
    "print(f\"Using {device} device\")"
   ],
   "metadata": {
    "collapsed": false,
    "is_executing": true
   },
   "id": "dfdd33096e536458"
  },
  {
   "cell_type": "markdown",
   "source": [
    "WK: \n",
    "nn.Flatten(): 扁平化处理\n",
    "nn.Sequential(): 模型序列\n",
    "nn.Linear: linear transformation $y=xA^T+b$\n",
    "nn.ReLU(rectified linear unit function)激活函数 $ReLU(x)=(x)^+ = max(0,x)$\n"
   ],
   "metadata": {
    "collapsed": false
   },
   "id": "3d4d29ebcc9508e8"
  },
  {
   "cell_type": "code",
   "execution_count": null,
   "outputs": [],
   "source": [
    "# Define model\n",
    "class NeuralNetwork(nn.Module):\n",
    "    def __init__(self):\n",
    "        super().__init__()\n",
    "        self.flatten = nn.Flatten()\n",
    "        self.linear_relu_stack = nn.Sequential(\n",
    "            nn.Linear(28*28, 512),\n",
    "            nn.ReLU(),\n",
    "            nn.Linear(512,512),\n",
    "            nn.ReLU(),\n",
    "            nn.Linear(512,10)\n",
    "        )\n",
    "        \n",
    "    def forward(self, x):\n",
    "        x = self.flatten(x)\n",
    "        logits = self.linear_relu_stack(x)\n",
    "        return logits\n",
    "\n",
    "model = NeuralNetwork().to(device)\n",
    "print(model)"
   ],
   "metadata": {
    "collapsed": false,
    "is_executing": true
   },
   "id": "633ffa506b126df7"
  },
  {
   "cell_type": "markdown",
   "source": [
    "# Optimizing\n",
    "loss function and optimizer"
   ],
   "metadata": {
    "collapsed": false
   },
   "id": "f9c9d6826499fa7e"
  },
  {
   "cell_type": "markdown",
   "source": [
    "* nn.CrossEntropyLoss 交叉熵损失函数\n",
    "* torch.optim.SGD (Stochastic Gradient Descent)"
   ],
   "metadata": {
    "collapsed": false
   },
   "id": "a3951abffcc6b240"
  },
  {
   "cell_type": "code",
   "execution_count": null,
   "outputs": [],
   "source": [
    "loss_fn = nn.CrossEntropyLoss()\n",
    "optimizer = torch.optim.SGD(model.parameters(), lr=1e-3)"
   ],
   "metadata": {
    "collapsed": false,
    "is_executing": true
   },
   "id": "aaf55fa58cb9a765"
  },
  {
   "cell_type": "markdown",
   "source": [
    "* model.train() 设置模型为训练模式\n",
    "* Tensor.backward() 关于叶节点计算梯度 [解释](https://zhuanlan.zhihu.com/p/592176365)\n",
    "* optimizer.step() 执行一步优化\n",
    "* optimizer.zero_grad() 重置梯度"
   ],
   "metadata": {
    "collapsed": false
   },
   "id": "e9f5f4f657137e38"
  },
  {
   "cell_type": "code",
   "execution_count": null,
   "outputs": [],
   "source": [
    "def train(dataLoader:DataLoader, model:nn.Module, loss_fn, optimizer):\n",
    "    size = len(dataLoader.dataset)\n",
    "    model.train()\n",
    "    for batch, (X, y) in enumerate(dataLoader):\n",
    "        X, y = X.to(device), y.to(device)\n",
    "        \n",
    "        # Compute prediction error\n",
    "        pred = model(X)\n",
    "        loss = loss_fn(pred, y)\n",
    "        \n",
    "        # Backpropagation\n",
    "        loss.backward()\n",
    "        optimizer.step()\n",
    "        optimizer.zero_grad()\n",
    "        \n",
    "        if batch % 100 == 0:\n",
    "            loss, current = loss.item(), (batch+1) * len(X)\n",
    "            print(f\"loss: {loss:>7f}  [{current:>5d}/{size:>5d}]\")"
   ],
   "metadata": {
    "collapsed": false,
    "is_executing": true
   },
   "id": "220b59e6985c0b71"
  },
  {
   "cell_type": "markdown",
   "source": [
    "* model.eval() 设置模型为 evaluation 模式\n",
    "* torch.no_grad() 上下文，用以停止梯度计算，用以减少内存消耗"
   ],
   "metadata": {
    "collapsed": false
   },
   "id": "44919589a493c500"
  },
  {
   "cell_type": "code",
   "execution_count": null,
   "outputs": [],
   "source": [
    "def test(dataloader, model, loss_fn):\n",
    "    size = len(dataloader.dataset)\n",
    "    num_batches = len(dataloader)\n",
    "    model.eval()\n",
    "    test_loss, correct = 0, 0\n",
    "    with torch.no_grad():\n",
    "        for X, y in dataloader:\n",
    "            X, y = X.to(device), y.to(device)\n",
    "            pred = model(X)\n",
    "            test_loss += loss_fn(pred, y).item()\n",
    "            correct += (pred.argmax(1) == y).type(torch.float).sum().item()\n",
    "    test_loss /= size\n",
    "    correct /= size\n",
    "    print(f\"Test Error: \\n Accuracy: {(100*correct):>0.1f}%, Avg loss: {test_loss:>8f} \\n\")"
   ],
   "metadata": {
    "collapsed": false,
    "is_executing": true
   },
   "id": "2764b14cca1d65e"
  },
  {
   "cell_type": "code",
   "execution_count": null,
   "outputs": [],
   "source": [
    "epochs = 10\n",
    "for t in range(epochs):\n",
    "    print(f\"Epoch {t+1}\\n-------------------------------\")\n",
    "    train(train_dataloader, model, loss_fn, optimizer)\n",
    "    test(test_dataloader, model, loss_fn)\n",
    "print(\"Done!\")"
   ],
   "metadata": {
    "collapsed": false,
    "is_executing": true
   },
   "id": "1c45a849450b541b"
  }
 ],
 "metadata": {
  "kernelspec": {
   "display_name": "Python 3",
   "language": "python",
   "name": "python3"
  },
  "language_info": {
   "codemirror_mode": {
    "name": "ipython",
    "version": 2
   },
   "file_extension": ".py",
   "mimetype": "text/x-python",
   "name": "python",
   "nbconvert_exporter": "python",
   "pygments_lexer": "ipython2",
   "version": "2.7.6"
  }
 },
 "nbformat": 4,
 "nbformat_minor": 5
}
