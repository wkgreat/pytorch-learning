{
 "cells": [
  {
   "cell_type": "markdown",
   "source": [
    "# AUtomatic Differentiation\n",
    "back propagation"
   ],
   "metadata": {
    "collapsed": false
   },
   "id": "f220164af6a21795"
  },
  {
   "cell_type": "code",
   "execution_count": 18,
   "outputs": [],
   "source": [
    "import torch\n",
    "x = torch.ones(5)\n",
    "y = torch.zeros(3)\n",
    "w = torch.rand(5,3, requires_grad=True)\n",
    "b = torch.rand(3, requires_grad=True)\n",
    "z = torch.matmul(x, w) + b\n",
    "loss = torch.nn.functional.binary_cross_entropy_with_logits(z,y)"
   ],
   "metadata": {
    "collapsed": false,
    "ExecuteTime": {
     "end_time": "2023-11-18T14:07:35.734522800Z",
     "start_time": "2023-11-18T14:07:35.671245700Z"
    }
   },
   "id": "81cb532c8c5fd5ed"
  },
  {
   "cell_type": "markdown",
   "source": [
    "![计算图](https://pytorch.org/tutorials/_images/comp-graph.png)  \n",
    "w 和 b 是参数，需要优化\n",
    "计算损失函数关于参数的梯度，使用requires_grad设置"
   ],
   "metadata": {
    "collapsed": false
   },
   "id": "9918bdc5080c4ea6"
  },
  {
   "cell_type": "code",
   "execution_count": 19,
   "outputs": [
    {
     "name": "stdout",
     "output_type": "stream",
     "text": [
      "<AddBackward0 object at 0x0000025DB36DBCD0>\n",
      "<BinaryCrossEntropyWithLogitsBackward0 object at 0x0000025DB6148A30>\n"
     ]
    }
   ],
   "source": [
    "print(z.grad_fn)\n",
    "print(loss.grad_fn)"
   ],
   "metadata": {
    "collapsed": false,
    "ExecuteTime": {
     "end_time": "2023-11-18T14:07:35.774239700Z",
     "start_time": "2023-11-18T14:07:35.673787400Z"
    }
   },
   "id": "c78134f43621c2a3"
  },
  {
   "cell_type": "markdown",
   "source": [
    "计算损失函数关于参数的偏导$\\frac{\\partial loss}{\\partial w}$ 及 $\\frac{\\partial loss}{\\partial b}$  \n",
    "`loss.backward()`"
   ],
   "metadata": {
    "collapsed": false
   },
   "id": "3c62275f440601fc"
  },
  {
   "cell_type": "code",
   "execution_count": 20,
   "outputs": [
    {
     "name": "stdout",
     "output_type": "stream",
     "text": [
      "tensor([[0.3231, 0.3262, 0.3203],\n",
      "        [0.3231, 0.3262, 0.3203],\n",
      "        [0.3231, 0.3262, 0.3203],\n",
      "        [0.3231, 0.3262, 0.3203],\n",
      "        [0.3231, 0.3262, 0.3203]])\n",
      "tensor([0.3231, 0.3262, 0.3203])\n"
     ]
    }
   ],
   "source": [
    "loss.backward()\n",
    "print(w.grad)\n",
    "print(b.grad)"
   ],
   "metadata": {
    "collapsed": false,
    "ExecuteTime": {
     "end_time": "2023-11-18T14:07:35.774239700Z",
     "start_time": "2023-11-18T14:07:35.686699500Z"
    }
   },
   "id": "57a7b93e4a757aef"
  },
  {
   "cell_type": "markdown",
   "source": [
    "停止梯度跟踪\n",
    "`torch.no_grad()`"
   ],
   "metadata": {
    "collapsed": false
   },
   "id": "a44fcc971c7f7f55"
  },
  {
   "cell_type": "code",
   "execution_count": 21,
   "outputs": [
    {
     "name": "stdout",
     "output_type": "stream",
     "text": [
      "True\n",
      "False\n"
     ]
    }
   ],
   "source": [
    "z = torch.matmul(x,w)+b\n",
    "print(z.requires_grad)\n",
    "with torch.no_grad():\n",
    "    z = torch.matmul(x,w)+b\n",
    "print(z.requires_grad)"
   ],
   "metadata": {
    "collapsed": false,
    "ExecuteTime": {
     "end_time": "2023-11-18T14:07:35.774239700Z",
     "start_time": "2023-11-18T14:07:35.702093600Z"
    }
   },
   "id": "a113c14ccad3d026"
  },
  {
   "cell_type": "markdown",
   "source": [
    "## Tensor Gradients and Jacobian Products"
   ],
   "metadata": {
    "collapsed": false
   },
   "id": "97b325eb7236465c"
  },
  {
   "cell_type": "markdown",
   "source": [
    "* t() 转置\n",
    "* retain_graph\n"
   ],
   "metadata": {
    "collapsed": false
   },
   "id": "b2d1898bba07e98f"
  },
  {
   "cell_type": "code",
   "execution_count": 22,
   "outputs": [
    {
     "name": "stdout",
     "output_type": "stream",
     "text": [
      "tensor([[4., 2., 2., 2., 2.],\n",
      "        [2., 4., 2., 2., 2.],\n",
      "        [2., 2., 4., 2., 2.],\n",
      "        [2., 2., 2., 4., 2.]])\n",
      "tensor([[8., 4., 4., 4., 4.],\n",
      "        [4., 8., 4., 4., 4.],\n",
      "        [4., 4., 8., 4., 4.],\n",
      "        [4., 4., 4., 8., 4.]])\n",
      "tensor([[4., 2., 2., 2., 2.],\n",
      "        [2., 4., 2., 2., 2.],\n",
      "        [2., 2., 4., 2., 2.],\n",
      "        [2., 2., 2., 4., 2.]])\n"
     ]
    }
   ],
   "source": [
    "inp = torch.eye(4, 5, requires_grad=True)\n",
    "out = (inp+1).pow(2).t()\n",
    "out.backward(torch.ones_like(out), retain_graph=True)\n",
    "print(inp.grad)\n",
    "out.backward(torch.ones_like(out), retain_graph=True)\n",
    "print(inp.grad)\n",
    "inp.grad.zero_()\n",
    "out.backward(torch.ones_like(out), retain_graph=True)\n",
    "print(inp.grad)"
   ],
   "metadata": {
    "collapsed": false,
    "ExecuteTime": {
     "end_time": "2023-11-18T14:07:35.875720800Z",
     "start_time": "2023-11-18T14:07:35.708711800Z"
    }
   },
   "id": "a8f31ae3068ec8e0"
  }
 ],
 "metadata": {
  "kernelspec": {
   "display_name": "Python 3",
   "language": "python",
   "name": "python3"
  },
  "language_info": {
   "codemirror_mode": {
    "name": "ipython",
    "version": 2
   },
   "file_extension": ".py",
   "mimetype": "text/x-python",
   "name": "python",
   "nbconvert_exporter": "python",
   "pygments_lexer": "ipython2",
   "version": "2.7.6"
  }
 },
 "nbformat": 4,
 "nbformat_minor": 5
}
