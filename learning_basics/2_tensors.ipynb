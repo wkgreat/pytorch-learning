{
 "cells": [
  {
   "cell_type": "markdown",
   "source": [
    "# Tensors\n",
    "Tensor的特点：\n",
    "* 可以跑在GPU\n",
    "* 与np.array共享内存\n",
    "* 可以自动求导"
   ],
   "metadata": {
    "collapsed": false
   },
   "id": "58c63323d76be48e"
  },
  {
   "cell_type": "code",
   "execution_count": 69,
   "outputs": [],
   "source": [
    "import torch\n",
    "import numpy as np"
   ],
   "metadata": {
    "collapsed": false,
    "ExecuteTime": {
     "end_time": "2023-11-17T03:53:53.519371900Z",
     "start_time": "2023-11-17T03:53:53.481968400Z"
    }
   },
   "id": "3d82db6c89d62666"
  },
  {
   "cell_type": "markdown",
   "source": [
    "## 初始化tensor"
   ],
   "metadata": {
    "collapsed": false
   },
   "id": "324aa11d664fe3bc"
  },
  {
   "cell_type": "code",
   "execution_count": 70,
   "outputs": [
    {
     "data": {
      "text/plain": "tensor([[1, 2],\n        [3, 4]])"
     },
     "execution_count": 70,
     "metadata": {},
     "output_type": "execute_result"
    }
   ],
   "source": [
    "data = [[1,2],[3,4]]\n",
    "x_data = torch.tensor(data)\n",
    "x_data"
   ],
   "metadata": {
    "collapsed": false,
    "ExecuteTime": {
     "end_time": "2023-11-17T03:53:53.526709600Z",
     "start_time": "2023-11-17T03:53:53.487262300Z"
    }
   },
   "id": "d7ebfc4effe953e1"
  },
  {
   "cell_type": "code",
   "execution_count": 71,
   "outputs": [
    {
     "data": {
      "text/plain": "tensor([[1, 2],\n        [3, 4]], dtype=torch.int32)"
     },
     "execution_count": 71,
     "metadata": {},
     "output_type": "execute_result"
    }
   ],
   "source": [
    "np_array = np.array(data)\n",
    "x_np = torch.from_numpy(np_array)\n",
    "x_np"
   ],
   "metadata": {
    "collapsed": false,
    "ExecuteTime": {
     "end_time": "2023-11-17T03:53:53.577965Z",
     "start_time": "2023-11-17T03:53:53.503991800Z"
    }
   },
   "id": "18ce9077e236b6dc"
  },
  {
   "cell_type": "code",
   "execution_count": 72,
   "outputs": [
    {
     "data": {
      "text/plain": "tensor([[1, 1],\n        [1, 1]])"
     },
     "execution_count": 72,
     "metadata": {},
     "output_type": "execute_result"
    }
   ],
   "source": [
    "x_ones = torch.ones_like(x_data)\n",
    "x_ones"
   ],
   "metadata": {
    "collapsed": false,
    "ExecuteTime": {
     "end_time": "2023-11-17T03:53:53.593597700Z",
     "start_time": "2023-11-17T03:53:53.513517900Z"
    }
   },
   "id": "729c72f016abfb74"
  },
  {
   "cell_type": "code",
   "execution_count": 73,
   "outputs": [
    {
     "data": {
      "text/plain": "tensor([[0.9541, 0.7558],\n        [0.6459, 0.8144]])"
     },
     "execution_count": 73,
     "metadata": {},
     "output_type": "execute_result"
    }
   ],
   "source": [
    "x_rand = torch.rand_like(x_data, dtype=torch.float)\n",
    "x_rand"
   ],
   "metadata": {
    "collapsed": false,
    "ExecuteTime": {
     "end_time": "2023-11-17T03:53:53.595721500Z",
     "start_time": "2023-11-17T03:53:53.520372200Z"
    }
   },
   "id": "90c4547a8cc571f1"
  },
  {
   "cell_type": "code",
   "execution_count": 74,
   "outputs": [
    {
     "name": "stdout",
     "output_type": "stream",
     "text": [
      "tensor([[0.6822, 0.9505, 0.1590],\n",
      "        [0.4561, 0.8351, 0.3331]])\n",
      "tensor([[1., 1., 1.],\n",
      "        [1., 1., 1.]])\n",
      "tensor([[0., 0., 0.],\n",
      "        [0., 0., 0.]])\n"
     ]
    }
   ],
   "source": [
    "shape = (2,3,)\n",
    "rand_tensor = torch.rand(shape)\n",
    "ones_tensor = torch.ones(shape)\n",
    "zeros_tensor = torch.zeros(shape)\n",
    "print(rand_tensor)\n",
    "print(ones_tensor)\n",
    "print(zeros_tensor)"
   ],
   "metadata": {
    "collapsed": false,
    "ExecuteTime": {
     "end_time": "2023-11-17T03:53:53.595721500Z",
     "start_time": "2023-11-17T03:53:53.530525600Z"
    }
   },
   "id": "1a0e735c5d2b39ec"
  },
  {
   "cell_type": "markdown",
   "source": [
    "## Tensor属性"
   ],
   "metadata": {
    "collapsed": false
   },
   "id": "ae1934d4027a7e4f"
  },
  {
   "cell_type": "code",
   "execution_count": 75,
   "outputs": [
    {
     "name": "stdout",
     "output_type": "stream",
     "text": [
      "tensor([[0.7878, 0.8849, 0.5891, 0.5682],\n",
      "        [0.6415, 0.4759, 0.6808, 0.6402],\n",
      "        [0.7966, 0.1838, 0.3396, 0.5447]])\n",
      "torch.Size([3, 4])\n",
      "torch.float32\n",
      "cpu\n"
     ]
    }
   ],
   "source": [
    "tensor = torch.rand(3,4)\n",
    "print(tensor)\n",
    "print(tensor.shape)\n",
    "print(tensor.dtype)\n",
    "print(tensor.device)"
   ],
   "metadata": {
    "collapsed": false,
    "ExecuteTime": {
     "end_time": "2023-11-17T03:53:53.595721500Z",
     "start_time": "2023-11-17T03:53:53.536908500Z"
    }
   },
   "id": "a00ec2aae54a0276"
  },
  {
   "cell_type": "markdown",
   "source": [
    "## Tensor操作"
   ],
   "metadata": {
    "collapsed": false
   },
   "id": "66a3bb013551bcc8"
  },
  {
   "cell_type": "markdown",
   "source": [
    "### GPU"
   ],
   "metadata": {
    "collapsed": false
   },
   "id": "41328ecc53ae764"
  },
  {
   "cell_type": "code",
   "execution_count": 76,
   "outputs": [
    {
     "data": {
      "text/plain": "device(type='cuda', index=0)"
     },
     "execution_count": 76,
     "metadata": {},
     "output_type": "execute_result"
    }
   ],
   "source": [
    "if torch.cuda.is_available():\n",
    "    tensor = tensor.to(\"cuda\")\n",
    "tensor.device"
   ],
   "metadata": {
    "collapsed": false,
    "ExecuteTime": {
     "end_time": "2023-11-17T03:53:53.596832400Z",
     "start_time": "2023-11-17T03:53:53.544278200Z"
    }
   },
   "id": "c8481e54af3fd132"
  },
  {
   "cell_type": "markdown",
   "source": [
    "### 访问及切片"
   ],
   "metadata": {
    "collapsed": false
   },
   "id": "12c917de07858b50"
  },
  {
   "cell_type": "code",
   "execution_count": 77,
   "outputs": [
    {
     "name": "stdout",
     "output_type": "stream",
     "text": [
      "tensor([[1., 1., 1., 1.],\n",
      "        [1., 1., 1., 1.],\n",
      "        [1., 1., 1., 1.],\n",
      "        [1., 1., 1., 1.]])\n",
      "tensor([1., 1., 1., 1.])\n",
      "tensor([1., 1., 1., 1.])\n",
      "tensor([1., 1., 1., 1.])\n",
      "tensor([[1., 0., 1., 1.],\n",
      "        [1., 0., 1., 1.],\n",
      "        [1., 0., 1., 1.],\n",
      "        [1., 0., 1., 1.]])\n"
     ]
    }
   ],
   "source": [
    "tensor = torch.ones(4,4)\n",
    "print(tensor)\n",
    "print(tensor[0])\n",
    "print(tensor[:,0])\n",
    "print(tensor[...,-1])\n",
    "tensor[:,1] = 0\n",
    "print(tensor)"
   ],
   "metadata": {
    "collapsed": false,
    "ExecuteTime": {
     "end_time": "2023-11-17T03:53:53.596832400Z",
     "start_time": "2023-11-17T03:53:53.554082500Z"
    }
   },
   "id": "5a8d4188f1bbed76"
  },
  {
   "cell_type": "markdown",
   "source": [
    "### 连接"
   ],
   "metadata": {
    "collapsed": false
   },
   "id": "5b8cadf47f6b9222"
  },
  {
   "cell_type": "code",
   "execution_count": 78,
   "outputs": [
    {
     "data": {
      "text/plain": "tensor([[1., 0., 1., 1.],\n        [1., 0., 1., 1.],\n        [1., 0., 1., 1.],\n        [1., 0., 1., 1.],\n        [1., 0., 1., 1.],\n        [1., 0., 1., 1.],\n        [1., 0., 1., 1.],\n        [1., 0., 1., 1.],\n        [1., 0., 1., 1.],\n        [1., 0., 1., 1.],\n        [1., 0., 1., 1.],\n        [1., 0., 1., 1.]])"
     },
     "execution_count": 78,
     "metadata": {},
     "output_type": "execute_result"
    }
   ],
   "source": [
    "t1 = torch.cat([tensor,tensor,tensor], dim=0)\n",
    "t1"
   ],
   "metadata": {
    "collapsed": false,
    "ExecuteTime": {
     "end_time": "2023-11-17T03:53:53.596832400Z",
     "start_time": "2023-11-17T03:53:53.559959Z"
    }
   },
   "id": "4684adb4e3482285"
  },
  {
   "cell_type": "code",
   "execution_count": 79,
   "outputs": [
    {
     "data": {
      "text/plain": "tensor([[1., 0., 1., 1., 1., 0., 1., 1., 1., 0., 1., 1.],\n        [1., 0., 1., 1., 1., 0., 1., 1., 1., 0., 1., 1.],\n        [1., 0., 1., 1., 1., 0., 1., 1., 1., 0., 1., 1.],\n        [1., 0., 1., 1., 1., 0., 1., 1., 1., 0., 1., 1.]])"
     },
     "execution_count": 79,
     "metadata": {},
     "output_type": "execute_result"
    }
   ],
   "source": [
    "t1 = torch.cat([tensor,tensor,tensor], dim=1)\n",
    "t1"
   ],
   "metadata": {
    "collapsed": false,
    "ExecuteTime": {
     "end_time": "2023-11-17T03:53:53.596832400Z",
     "start_time": "2023-11-17T03:53:53.567700100Z"
    }
   },
   "id": "f8457c9998e3c05d"
  },
  {
   "cell_type": "markdown",
   "source": [
    "### 算术"
   ],
   "metadata": {
    "collapsed": false
   },
   "id": "cf762b707a6853b3"
  },
  {
   "cell_type": "code",
   "execution_count": 80,
   "outputs": [
    {
     "name": "stdout",
     "output_type": "stream",
     "text": [
      "tensor([[3., 3., 3., 3.],\n",
      "        [3., 3., 3., 3.],\n",
      "        [3., 3., 3., 3.],\n",
      "        [3., 3., 3., 3.]])\n",
      "tensor([[3., 3., 3., 3.],\n",
      "        [3., 3., 3., 3.],\n",
      "        [3., 3., 3., 3.],\n",
      "        [3., 3., 3., 3.]])\n"
     ]
    }
   ],
   "source": [
    "# 矩阵相乘 矩阵转置\n",
    "y1 = tensor @ tensor.T\n",
    "print(y1)\n",
    "y2 = tensor.matmul(tensor.T)\n",
    "print(y2)"
   ],
   "metadata": {
    "collapsed": false,
    "ExecuteTime": {
     "end_time": "2023-11-17T03:53:53.597840400Z",
     "start_time": "2023-11-17T03:53:53.576950Z"
    }
   },
   "id": "ec3ceb1fa16077d9"
  },
  {
   "cell_type": "code",
   "execution_count": 81,
   "outputs": [
    {
     "name": "stdout",
     "output_type": "stream",
     "text": [
      "tensor([[1., 0., 1., 1.],\n",
      "        [1., 0., 1., 1.],\n",
      "        [1., 0., 1., 1.],\n",
      "        [1., 0., 1., 1.]])\n",
      "tensor([[1., 0., 1., 1.],\n",
      "        [1., 0., 1., 1.],\n",
      "        [1., 0., 1., 1.],\n",
      "        [1., 0., 1., 1.]])\n",
      "tensor([[1., 0., 1., 1.],\n",
      "        [1., 0., 1., 1.],\n",
      "        [1., 0., 1., 1.],\n",
      "        [1., 0., 1., 1.]])\n"
     ]
    }
   ],
   "source": [
    "# 逐元素相乘\n",
    "z1 = tensor * tensor\n",
    "z2 = tensor.mul(tensor)\n",
    "z3 = torch.rand_like(tensor)\n",
    "torch.mul(tensor, tensor, out=z3)\n",
    "print(z1)\n",
    "print(z2)\n",
    "print(z3)"
   ],
   "metadata": {
    "collapsed": false,
    "ExecuteTime": {
     "end_time": "2023-11-17T03:53:53.608829400Z",
     "start_time": "2023-11-17T03:53:53.584471400Z"
    }
   },
   "id": "97f9a3ba29c059b2"
  },
  {
   "cell_type": "markdown",
   "source": [
    "item()"
   ],
   "metadata": {
    "collapsed": false
   },
   "id": "bf350a10f3e5128f"
  },
  {
   "cell_type": "code",
   "execution_count": 82,
   "outputs": [
    {
     "name": "stdout",
     "output_type": "stream",
     "text": [
      "tensor(12.) <class 'torch.Tensor'>\n",
      "12.0 <class 'float'>\n"
     ]
    }
   ],
   "source": [
    "agg = tensor.sum()\n",
    "print(agg, type(agg))\n",
    "agg_item = agg.item()\n",
    "print(agg_item, type(agg_item))"
   ],
   "metadata": {
    "collapsed": false,
    "ExecuteTime": {
     "end_time": "2023-11-17T05:59:12.614915800Z",
     "start_time": "2023-11-17T05:59:12.591041600Z"
    }
   },
   "id": "9b5441c5a9377b7"
  },
  {
   "cell_type": "markdown",
   "source": [
    "带 _ 后缀的方法，为in place方法"
   ],
   "metadata": {
    "collapsed": false
   },
   "id": "20a7d50c4b75ad27"
  },
  {
   "cell_type": "code",
   "execution_count": 83,
   "outputs": [
    {
     "name": "stdout",
     "output_type": "stream",
     "text": [
      "tensor([[1., 0., 1., 1.],\n",
      "        [1., 0., 1., 1.],\n",
      "        [1., 0., 1., 1.],\n",
      "        [1., 0., 1., 1.]])\n",
      "tensor([[6., 5., 6., 6.],\n",
      "        [6., 5., 6., 6.],\n",
      "        [6., 5., 6., 6.],\n",
      "        [6., 5., 6., 6.]])\n"
     ]
    }
   ],
   "source": [
    "print(tensor)\n",
    "tensor.add_(5)\n",
    "print(tensor)"
   ],
   "metadata": {
    "collapsed": false,
    "ExecuteTime": {
     "end_time": "2023-11-17T06:00:14.646495900Z",
     "start_time": "2023-11-17T06:00:14.632949200Z"
    }
   },
   "id": "ca599219bd7c359a"
  },
  {
   "cell_type": "markdown",
   "source": [
    "numpy array"
   ],
   "metadata": {
    "collapsed": false
   },
   "id": "859e37a3211dc11a"
  },
  {
   "cell_type": "code",
   "execution_count": 84,
   "outputs": [
    {
     "name": "stdout",
     "output_type": "stream",
     "text": [
      "tensor([2., 2., 2., 2., 2.], dtype=torch.float64)\n",
      "[2. 2. 2. 2. 2.]\n"
     ]
    }
   ],
   "source": [
    "n = np.ones(5)\n",
    "t = torch.from_numpy(n)\n",
    "np.add(n,1,out=n)\n",
    "print(t)\n",
    "print(n)"
   ],
   "metadata": {
    "collapsed": false,
    "ExecuteTime": {
     "end_time": "2023-11-17T06:05:50.464082300Z",
     "start_time": "2023-11-17T06:05:50.449790100Z"
    }
   },
   "id": "2af611a4cfc0663c"
  },
  {
   "cell_type": "code",
   "execution_count": null,
   "outputs": [],
   "source": [],
   "metadata": {
    "collapsed": false
   },
   "id": "953ce21f9567fbe0"
  }
 ],
 "metadata": {
  "kernelspec": {
   "display_name": "Python 3",
   "language": "python",
   "name": "python3"
  },
  "language_info": {
   "codemirror_mode": {
    "name": "ipython",
    "version": 2
   },
   "file_extension": ".py",
   "mimetype": "text/x-python",
   "name": "python",
   "nbconvert_exporter": "python",
   "pygments_lexer": "ipython2",
   "version": "2.7.6"
  }
 },
 "nbformat": 4,
 "nbformat_minor": 5
}
