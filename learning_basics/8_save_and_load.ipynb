{
 "cells": [
  {
   "cell_type": "markdown",
   "source": [
    "# Save and Load the Model"
   ],
   "metadata": {
    "collapsed": false
   },
   "id": "f41d8cbe04e2aa7f"
  },
  {
   "cell_type": "code",
   "execution_count": null,
   "outputs": [],
   "source": [
    "import torch\n",
    "import torchvision.models as models"
   ],
   "metadata": {
    "collapsed": false,
    "ExecuteTime": {
     "start_time": "2023-11-18T15:00:15.459827600Z"
    }
   },
   "id": "2560f35e2ba975d5"
  },
  {
   "cell_type": "markdown",
   "source": [
    "## Saving and Loading Model Weights"
   ],
   "metadata": {
    "collapsed": false
   },
   "id": "5a23ffb99df6ba4d"
  },
  {
   "cell_type": "code",
   "execution_count": null,
   "outputs": [],
   "source": [
    "model = models.vgg16(weights='IMAGENET1K_V1')\n",
    "torch.save(model.state_dict(), 'model_weights.pth')"
   ],
   "metadata": {
    "collapsed": false,
    "ExecuteTime": {
     "end_time": "2023-11-18T15:00:15.459827600Z",
     "start_time": "2023-11-18T15:00:15.459827600Z"
    }
   },
   "id": "9911099764219f53"
  },
  {
   "cell_type": "code",
   "execution_count": null,
   "outputs": [],
   "source": [
    "model = models.vgg16()\n",
    "model.load_state_dict(torch.load('model_weights.pth'))\n",
    "model.eval()"
   ],
   "metadata": {
    "collapsed": false,
    "ExecuteTime": {
     "start_time": "2023-11-18T15:00:15.459827600Z"
    }
   },
   "id": "cddd07e024100714"
  },
  {
   "cell_type": "markdown",
   "source": [
    "## Saving and Loading Models with Shapes"
   ],
   "metadata": {
    "collapsed": false
   },
   "id": "5d66e84911c14643"
  },
  {
   "cell_type": "code",
   "execution_count": null,
   "outputs": [],
   "source": [
    "torch.save(model, 'model.pth')"
   ],
   "metadata": {
    "collapsed": false,
    "ExecuteTime": {
     "start_time": "2023-11-18T15:00:15.468398200Z"
    }
   },
   "id": "460326ed11688998"
  },
  {
   "cell_type": "code",
   "execution_count": null,
   "outputs": [],
   "source": [
    "model = torch.load('model.pth')"
   ],
   "metadata": {
    "collapsed": false,
    "ExecuteTime": {
     "end_time": "2023-11-18T15:00:15.468398200Z",
     "start_time": "2023-11-18T15:00:15.468398200Z"
    }
   },
   "id": "70e20c995330047d"
  }
 ],
 "metadata": {
  "kernelspec": {
   "display_name": "Python 3",
   "language": "python",
   "name": "python3"
  },
  "language_info": {
   "codemirror_mode": {
    "name": "ipython",
    "version": 2
   },
   "file_extension": ".py",
   "mimetype": "text/x-python",
   "name": "python",
   "nbconvert_exporter": "python",
   "pygments_lexer": "ipython2",
   "version": "2.7.6"
  }
 },
 "nbformat": 4,
 "nbformat_minor": 5
}
